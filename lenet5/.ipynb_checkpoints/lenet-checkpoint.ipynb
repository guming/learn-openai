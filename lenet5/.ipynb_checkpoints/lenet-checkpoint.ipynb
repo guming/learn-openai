{
 "cells": [
  {
   "cell_type": "code",
   "execution_count": 5,
   "id": "4db0f6ea",
   "metadata": {},
   "outputs": [
    {
     "name": "stdout",
     "output_type": "stream",
     "text": [
      "Paddle的版本号为：2.5.1\n"
     ]
    }
   ],
   "source": [
    "import numpy as np\n",
    "import paddle as paddle\n",
    "import paddle.fluid as fluid\n",
    "from PIL import Image\n",
    "import matplotlib.pyplot as plt\n",
    "import os\n",
    "from paddle.nn import Linear\n",
    "print(\"Paddle的版本号为：\"+paddle.__version__)"
   ]
  },
  {
   "cell_type": "code",
   "execution_count": 68,
   "id": "f2574c43",
   "metadata": {},
   "outputs": [
    {
     "name": "stdout",
     "output_type": "stream",
     "text": [
      "train images:  60000 , test images:  10000\n"
     ]
    }
   ],
   "source": [
    "\n",
    "from paddle.vision.transforms import Normalize\n",
    "from paddle.vision.transforms import Compose, Normalize\n",
    "# 定义图像归一化处理方法，这里的CHW指图像格式需为 [C通道数，H图像高度，W图像宽度]\n",
    "transform = Compose([Normalize(mean=[127.5],std=[127.5],data_format='CHW')])\n",
    "# 下载数据集并初始化 DataSet\n",
    "train_dataset = paddle.vision.datasets.MNIST(mode='train', transform=transform)\n",
    "test_dataset = paddle.vision.datasets.MNIST(mode='test', transform=transform)\n",
    "print('train images: ',len(train_dataset),', test images: ',len(test_dataset))"
   ]
  },
  {
   "cell_type": "code",
   "execution_count": 69,
   "id": "de30956a",
   "metadata": {},
   "outputs": [
    {
     "name": "stdout",
     "output_type": "stream",
     "text": [
      "---------------------------------------------------------------------------\n",
      " Layer (type)       Input Shape          Output Shape         Param #    \n",
      "===========================================================================\n",
      "   Conv2D-13      [[1, 1, 28, 28]]      [1, 6, 28, 28]          60       \n",
      "    ReLU-13       [[1, 6, 28, 28]]      [1, 6, 28, 28]           0       \n",
      " MaxPool2D-13     [[1, 6, 28, 28]]      [1, 6, 14, 14]           0       \n",
      "   Conv2D-14      [[1, 6, 14, 14]]     [1, 16, 10, 10]         2,416     \n",
      "    ReLU-14      [[1, 16, 10, 10]]     [1, 16, 10, 10]           0       \n",
      " MaxPool2D-14    [[1, 16, 10, 10]]      [1, 16, 5, 5]            0       \n",
      "   Linear-19         [[1, 400]]            [1, 120]           48,120     \n",
      "   Linear-20         [[1, 120]]            [1, 84]            10,164     \n",
      "   Linear-21         [[1, 84]]             [1, 10]              850      \n",
      "===========================================================================\n",
      "Total params: 61,610\n",
      "Trainable params: 61,610\n",
      "Non-trainable params: 0\n",
      "---------------------------------------------------------------------------\n",
      "Input size (MB): 0.00\n",
      "Forward/backward pass size (MB): 0.11\n",
      "Params size (MB): 0.24\n",
      "Estimated Total Size (MB): 0.35\n",
      "---------------------------------------------------------------------------\n",
      "\n"
     ]
    },
    {
     "data": {
      "text/plain": [
       "{'total_params': 61610, 'trainable_params': 61610}"
      ]
     },
     "execution_count": 69,
     "metadata": {},
     "output_type": "execute_result"
    }
   ],
   "source": [
    "# 模型组网并初始化网络\n",
    "lenet = paddle.vision.models.LeNet(num_classes=10)\n",
    "\n",
    "# 可视化模型组网结构和参数\n",
    "paddle.summary(lenet,(1, 1, 28, 28))"
   ]
  },
  {
   "cell_type": "code",
   "execution_count": 70,
   "id": "8ef4929f",
   "metadata": {},
   "outputs": [
    {
     "name": "stdout",
     "output_type": "stream",
     "text": [
      "AxesImage(size=(28, 28))\n",
      "train_data0 的标签为: [5]\n"
     ]
    },
    {
     "data": {
      "image/png": "[encoded data removed]",
      "text/plain": [
       "<Figure size 200x200 with 1 Axes>"
      ]
     },
     "metadata": {},
     "output_type": "display_data"
    }
   ],
   "source": [
    "train_data0, train_label_0 = train_dataset[0][0],train_dataset[0][1]\n",
    "train_data0 = train_data0.reshape([28,28])\n",
    "plt.figure(figsize=(2,2))\n",
    "print(plt.imshow(train_data0, cmap=plt.cm.binary))\n",
    "print('train_data0 的标签为: ' + str(train_label_0))"
   ]
  },
  {
   "cell_type": "code",
   "execution_count": 102,
   "id": "292c50e0",
   "metadata": {},
   "outputs": [
    {
     "name": "stdout",
     "output_type": "stream",
     "text": [
      "---------------------------------------------------------------------------\n",
      " Layer (type)       Input Shape          Output Shape         Param #    \n",
      "===========================================================================\n",
      "   Conv2D-17      [[1, 1, 28, 28]]      [1, 6, 28, 28]          60       \n",
      "    ReLU-17       [[1, 6, 28, 28]]      [1, 6, 28, 28]           0       \n",
      " MaxPool2D-17     [[1, 6, 28, 28]]      [1, 6, 14, 14]           0       \n",
      "   Conv2D-18      [[1, 6, 14, 14]]     [1, 16, 10, 10]         2,416     \n",
      "    ReLU-18      [[1, 16, 10, 10]]     [1, 16, 10, 10]           0       \n",
      " MaxPool2D-18    [[1, 16, 10, 10]]      [1, 16, 5, 5]            0       \n",
      "   Linear-25         [[1, 400]]            [1, 120]           48,120     \n",
      "   Linear-26         [[1, 120]]            [1, 84]            10,164     \n",
      "   Linear-27         [[1, 84]]             [1, 10]              850      \n",
      "===========================================================================\n",
      "Total params: 61,610\n",
      "Trainable params: 61,610\n",
      "Non-trainable params: 0\n",
      "---------------------------------------------------------------------------\n",
      "Input size (MB): 0.00\n",
      "Forward/backward pass size (MB): 0.11\n",
      "Params size (MB): 0.24\n",
      "Estimated Total Size (MB): 0.35\n",
      "---------------------------------------------------------------------------\n",
      "\n",
      "{'total_params': 61610, 'trainable_params': 61610}\n"
     ]
    }
   ],
   "source": [
    "# 使用 Subclass 方式构建 LeNet 模型\n",
    "class LeNet(paddle.nn.Layer):\n",
    "    def __init__(self, num_classes=10):\n",
    "        super().__init__()\n",
    "        self.num_classes = num_classes\n",
    "        # 构建 features 子网，用于对输入图像进行特征提取\n",
    "        self.features = paddle.nn.Sequential(\n",
    "            paddle.nn.Conv2D(\n",
    "                1, 6, 3, stride=1, padding=1),\n",
    "            paddle.nn.ReLU(),\n",
    "            paddle.nn.MaxPool2D(2, 2),\n",
    "            paddle.nn.Conv2D(\n",
    "                6, 16, 5, stride=1, padding=0),\n",
    "            paddle.nn.ReLU(),\n",
    "            paddle.nn.MaxPool2D(2, 2))\n",
    "        # 构建 linear 子网，用于分类\n",
    "        if num_classes > 0:\n",
    "            self.linear = paddle.nn.Sequential(\n",
    "                paddle.nn.Linear(400, 120),\n",
    "                paddle.nn.Linear(120, 84), \n",
    "                paddle.nn.Linear(84, num_classes)\n",
    "            )\n",
    "    # 执行前向计算\n",
    "    def forward(self, inputs):\n",
    "        x = self.features(inputs)\n",
    "\n",
    "        if self.num_classes > 0:\n",
    "            x = paddle.flatten(x, 1)\n",
    "            x = self.linear(x)\n",
    "        return x\n",
    "lenet_SubClass = LeNet(num_classes=10)\n",
    "\n",
    "# 可视化模型组网结构和参数\n",
    "params_info = paddle.summary(lenet_SubClass,(1, 1, 28, 28))\n",
    "print(params_info)"
   ]
  },
  {
   "cell_type": "code",
   "execution_count": 103,
   "id": "ba484717",
   "metadata": {},
   "outputs": [],
   "source": [
    "model = paddle.Model(lenet_SubClass)"
   ]
  },
  {
   "cell_type": "code",
   "execution_count": 104,
   "id": "7861c12c",
   "metadata": {},
   "outputs": [],
   "source": [
    "# 为模型训练做准备，设置优化器及其学习率，并将网络的参数传入优化器，设置损失函数和精度计算方式\n",
    "model.prepare(optimizer=paddle.optimizer.Adam(learning_rate=0.001, parameters=model.parameters()), \n",
    "              loss=paddle.nn.CrossEntropyLoss(), \n",
    "              metrics=paddle.metric.Accuracy())"
   ]
  },
  {
   "cell_type": "code",
   "execution_count": 105,
   "id": "528e6b60",
   "metadata": {},
   "outputs": [
    {
     "name": "stdout",
     "output_type": "stream",
     "text": [
      "The loss value printed in the log is the current step, and the metric is the average value of previous steps.\n",
      "Epoch 1/5\n",
      "step 938/938 [==============================] - loss: 0.0087 - acc: 0.9388 - 23ms/step          \n",
      "Epoch 2/5\n",
      "step 938/938 [==============================] - loss: 0.0064 - acc: 0.9764 - 23ms/step          \n",
      "Epoch 3/5\n",
      "step 938/938 [==============================] - loss: 0.0230 - acc: 0.9815 - 24ms/step          \n",
      "Epoch 4/5\n",
      "step 938/938 [==============================] - loss: 0.0581 - acc: 0.9840 - 24ms/step          \n",
      "Epoch 5/5\n",
      "step 938/938 [==============================] - loss: 0.0366 - acc: 0.9861 - 26ms/step          \n"
     ]
    }
   ],
   "source": [
    "# 启动模型训练，指定训练数据集，设置训练轮次，设置每次数据集计算的批次大小，设置日志格式\n",
    "model.fit(train_dataset, \n",
    "          epochs=5, \n",
    "          batch_size=64,\n",
    "          verbose=1)"
   ]
  },
  {
   "cell_type": "code",
   "execution_count": 106,
   "id": "64dd092a",
   "metadata": {},
   "outputs": [
    {
     "name": "stdout",
     "output_type": "stream",
     "text": [
      "Eval begin...\n",
      "step 10000/10000 [==============================] - loss: 7.1526e-07 - acc: 0.9798 - 2ms/step          \n",
      "Eval samples: 10000\n",
      "{'loss': [7.152559646783629e-07], 'acc': 0.9798}\n"
     ]
    }
   ],
   "source": [
    "# 用 evaluate 在测试集上对模型进行验证\n",
    "eval_result = model.evaluate(test_dataset, verbose=1)\n",
    "print(eval_result)"
   ]
  },
  {
   "cell_type": "code",
   "execution_count": 140,
   "id": "5bff94a6",
   "metadata": {},
   "outputs": [
    {
     "name": "stdout",
     "output_type": "stream",
     "text": [
      "Predict begin...\n",
      "step 10000/10000 [==============================] - 2ms/step          \n",
      "Predict samples: 10000\n",
      "1\n",
      "[[ -5.226859     0.49922094   0.72162205   2.5696197   -6.497666\n",
      "    1.7608469  -15.544969    23.543434    -3.3427873    2.02342   ]]\n",
      "true label: 7, pred label: 7\n"
     ]
    },
    {
     "data": {
      "text/plain": [
       "<matplotlib.image.AxesImage at 0x1208c6d90>"
      ]
     },
     "execution_count": 140,
     "metadata": {},
     "output_type": "execute_result"
    },
    {
     "data": {
      "image/png": "[encoded data removed]",
      "text/plain": [
       "<Figure size 640x480 with 1 Axes>"
      ]
     },
     "metadata": {},
     "output_type": "display_data"
    }
   ],
   "source": [
    "# 用 predict 在测试集上对模型进行推理\n",
    "test_result = model.predict(test_dataset)\n",
    "# 由于模型是单一输出，test_result的形状为[1, 10000]，10000是测试数据集的数据量。这里打印第一个数据的结果，这个数组表示每个数字的预测概率\n",
    "print(len(test_result))\n",
    "print(test_result[0][0])\n",
    "\n",
    "# 从测试集中取出一张图片\n",
    "img, label = test_dataset[0]\n",
    "\n",
    "# 打印推理结果，这里的argmax函数用于取出预测值中概率最高的一个的下标，作为预测标签\n",
    "pred_label = test_result[0][0].argmax()\n",
    "print('true label: {}, pred label: {}'.format(label[0], pred_label))\n",
    "# 使用matplotlib库，可视化图片\n",
    "from matplotlib import pyplot as plt\n",
    "plt.imshow(img[0])"
   ]
  },
  {
   "cell_type": "code",
   "execution_count": 166,
   "id": "180f66c8",
   "metadata": {},
   "outputs": [
    {
     "name": "stdout",
     "output_type": "stream",
     "text": [
      "Batch ID: 0 Images shape: [1, 1, 28, 28] Labels shape: [1]\n"
     ]
    }
   ],
   "source": [
    "import paddle.vision.transforms as T\n",
    "from paddle.vision.transforms import Transpose, Compose, Resize, Grayscale, Normalize\n",
    "image = Image.open(\"data/3.jpeg\")\n",
    "\n",
    "# 图像处理的transforms\n",
    "transform = Compose([Resize((28, 28)), Grayscale(), Normalize(mean=[127.5], std=[127.5], data_format='CHW')])\n",
    "\n",
    "image_tensor = transform(image)\n",
    "\n",
    "# 创建自定义数据集类\n",
    "class MyDataset(paddle.io.Dataset):\n",
    "    def __init__(self, data_list):\n",
    "        self.data = data_list\n",
    "\n",
    "    def __getitem__(self, idx):\n",
    "        image, label = self.data[idx]\n",
    "        return image, label\n",
    "\n",
    "    def __len__(self):\n",
    "        return len(self.data)\n",
    "\n",
    "# 将图片添加到数据集中\n",
    "# 假设图片的标签为3\n",
    "label = 3\n",
    "image_label_pair = (image_tensor, label)\n",
    "data_list = [image_label_pair]\n",
    "\n",
    "# 创建自定义数据集\n",
    "custom_dataset = MyDataset(data_list)\n",
    "\n",
    "# 创建数据加载器\n",
    "batch_size = 1\n",
    "data_loader = paddle.io.DataLoader(custom_dataset, batch_size=batch_size, shuffle=True)\n",
    "\n",
    "# 使用数据加载器迭代数据\n",
    "for batch_id, (images, labels) in enumerate(data_loader):\n",
    "    # 在这里进行数据处理和模型预测\n",
    "    print(\"Batch ID:\", batch_id, \"Images shape:\", images.shape, \"Labels shape:\", labels.shape)"
   ]
  },
  {
   "cell_type": "code",
   "execution_count": 167,
   "id": "a6407835",
   "metadata": {},
   "outputs": [
    {
     "name": "stdout",
     "output_type": "stream",
     "text": [
      "Predict begin...\n",
      "step 1/1 [==============================] - 5ms/step\n",
      "Predict samples: 1\n",
      "[[-0.03816438 -3.750312    2.7824383   6.4213533  -2.7011116   2.9951732\n",
      "  -3.4607027  -4.352251    2.635406   -2.2099826 ]]\n",
      "true label: 3, pred label: 3\n"
     ]
    },
    {
     "data": {
      "text/plain": [
       "<matplotlib.image.AxesImage at 0x120f65c10>"
      ]
     },
     "execution_count": 167,
     "metadata": {},
     "output_type": "execute_result"
    },
    {
     "data": {
      "image/png": "[encoded data removed]",
      "text/plain": [
       "<Figure size 640x480 with 1 Axes>"
      ]
     },
     "metadata": {},
     "output_type": "display_data"
    }
   ],
   "source": [
    "custom_result = model.predict(custom_dataset)\n",
    "\n",
    "# 从测试集中取出图片\n",
    "img, label = custom_dataset[0]\n",
    "print(custom_result[0][0])\n",
    "pred_label = custom_result[0][0].argmax()\n",
    "print('true label: {}, pred label: {}'.format(label, pred_label))\n",
    "# 使用matplotlib库，可视化图片\n",
    "from matplotlib import pyplot as plt\n",
    "plt.imshow(img[0])"
   ]
  },
  {
   "cell_type": "markdown",
   "id": "8f8931c8",
   "metadata": {},
   "source": []
  }
 ],
 "metadata": {
  "kernelspec": {
   "display_name": "Python 3 (ipykernel)",
   "language": "python",
   "name": "python3"
  },
  "language_info": {
   "codemirror_mode": {
    "name": "ipython",
    "version": 3
   },
   "file_extension": ".py",
   "mimetype": "text/x-python",
   "name": "python",
   "nbconvert_exporter": "python",
   "pygments_lexer": "ipython3",
   "version": "3.11.4"
  }
 },
 "nbformat": 4,
 "nbformat_minor": 5
}
