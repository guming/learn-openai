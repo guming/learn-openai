{
 "cells": [
  {
   "cell_type": "code",
   "execution_count": 1,
   "id": "e57db6ac",
   "metadata": {
    "scrolled": true
   },
   "outputs": [
    {
     "name": "stdout",
     "output_type": "stream",
     "text": [
      "/usr/local/opt/python@3.11/bin/python3.11\n"
     ]
    }
   ],
   "source": [
    "!pip install pandas\n",
    "!pip install numpy"
   ]
  },
  {
   "cell_type": "code",
   "execution_count": 2,
   "id": "c8e82c5a",
   "metadata": {},
   "outputs": [],
   "source": [
    "import warnings\n",
    "warnings.filterwarnings('ignore')\n",
    "import os\n",
    "os.environ[\"HDF5_USE_FILE_LOCKING\"] = \"FALSE\"\n",
    "import pandas as pd\n",
    "import numpy as np"
   ]
  },
  {
   "cell_type": "code",
   "execution_count": 8,
   "id": "8f5afaa1",
   "metadata": {},
   "outputs": [],
   "source": [
    "import os\n",
    "import zipfile\n",
    "\n",
    "if not os.path.exists(\"./data/5f9ae242cae5285cd734b91e-momodel\"):\n",
    "    zf = zipfile.ZipFile('./data/5f9ae242cae5285cd734b91e-momodel.zip','r')\n",
    "    for f in zf.namelist():\n",
    "        zf.extract(f, './data/')  # 循环解压，将文件解压到指定路径\n",
    "    zf.close()"
   ]
  },
  {
   "cell_type": "markdown",
   "id": "38247c7f",
   "metadata": {},
   "source": [
    "data_path = \"./data/5f9ae242cae5285cd734b91e-momodel/sms_pub.csv\"\n",
    "sms = pd.read_csv(data_path, encoding='utf-8')\n",
    "sms.head()\n"
   ]
  },
  {
   "cell_type": "code",
   "execution_count": 161,
   "id": "8bf05bab",
   "metadata": {},
   "outputs": [
    {
     "data": {
      "text/html": [
       "<div>\n",
       "<style scoped>\n",
       "    .dataframe tbody tr th:only-of-type {\n",
       "        vertical-align: middle;\n",
       "    }\n",
       "\n",
       "    .dataframe tbody tr th {\n",
       "        vertical-align: top;\n",
       "    }\n",
       "\n",
       "    .dataframe thead tr th {\n",
       "        text-align: left;\n",
       "    }\n",
       "\n",
       "    .dataframe thead tr:last-of-type th {\n",
       "        text-align: right;\n",
       "    }\n",
       "</style>\n",
       "<table border=\"1\" class=\"dataframe\">\n",
       "  <thead>\n",
       "    <tr>\n",
       "      <th></th>\n",
       "      <th colspan=\"8\" halign=\"left\">Unnamed: 0</th>\n",
       "    </tr>\n",
       "    <tr>\n",
       "      <th></th>\n",
       "      <th>count</th>\n",
       "      <th>mean</th>\n",
       "      <th>std</th>\n",
       "      <th>min</th>\n",
       "      <th>25%</th>\n",
       "      <th>50%</th>\n",
       "      <th>75%</th>\n",
       "      <th>max</th>\n",
       "    </tr>\n",
       "    <tr>\n",
       "      <th>label</th>\n",
       "      <th></th>\n",
       "      <th></th>\n",
       "      <th></th>\n",
       "      <th></th>\n",
       "      <th></th>\n",
       "      <th></th>\n",
       "      <th></th>\n",
       "      <th></th>\n",
       "    </tr>\n",
       "  </thead>\n",
       "  <tbody>\n",
       "    <tr>\n",
       "      <th>0</th>\n",
       "      <td>636700.0</td>\n",
       "      <td>353916.592548</td>\n",
       "      <td>204369.569092</td>\n",
       "      <td>0.0</td>\n",
       "      <td>176990.75</td>\n",
       "      <td>353887.5</td>\n",
       "      <td>530987.25</td>\n",
       "      <td>707948.0</td>\n",
       "    </tr>\n",
       "    <tr>\n",
       "      <th>1</th>\n",
       "      <td>71252.0</td>\n",
       "      <td>354501.890487</td>\n",
       "      <td>204357.472747</td>\n",
       "      <td>1.0</td>\n",
       "      <td>176978.50</td>\n",
       "      <td>354827.5</td>\n",
       "      <td>530786.25</td>\n",
       "      <td>707951.0</td>\n",
       "    </tr>\n",
       "  </tbody>\n",
       "</table>\n",
       "</div>"
      ],
      "text/plain": [
       "      Unnamed: 0                                                          \\\n",
       "           count           mean            std  min        25%       50%   \n",
       "label                                                                      \n",
       "0       636700.0  353916.592548  204369.569092  0.0  176990.75  353887.5   \n",
       "1        71252.0  354501.890487  204357.472747  1.0  176978.50  354827.5   \n",
       "\n",
       "                            \n",
       "             75%       max  \n",
       "label                       \n",
       "0      530987.25  707948.0  \n",
       "1      530786.25  707951.0  "
      ]
     },
     "execution_count": 161,
     "metadata": {},
     "output_type": "execute_result"
    }
   ],
   "source": [
    "sms.groupby('label').describe()"
   ]
  },
  {
   "cell_type": "code",
   "execution_count": 162,
   "id": "d8067111",
   "metadata": {},
   "outputs": [],
   "source": [
    "def read_stopwords(stopwords_path):\n",
    "    \"\"\"\n",
    "    读取停用词库\n",
    "    \"\"\"\n",
    "    with open(stopwords_path, 'r', encoding='utf-8') as f:\n",
    "        stopwords = f.read()\n",
    "    stopwords = stopwords.splitlines()\n",
    "    return stopwords"
   ]
  },
  {
   "cell_type": "code",
   "execution_count": 163,
   "id": "a7f35844",
   "metadata": {},
   "outputs": [
    {
     "name": "stdout",
     "output_type": "stream",
     "text": [
      "['嘿', '很', '乎', '会', '或', '既', '及', '啦', '了', '们', '你', '您', '哦', '砰', '啊', '你', '我', '他', '她', '它']\n"
     ]
    }
   ],
   "source": [
    "stopwords_path = r'./data/5f9ae242cae5285cd734b91e-momodel/scu_stopwords.txt'\n",
    "# 读取停用词\n",
    "stopwords = read_stopwords(stopwords_path)\n",
    "# 展示一些停用词\n",
    "print(stopwords[-20:])"
   ]
  },
  {
   "cell_type": "code",
   "execution_count": 164,
   "id": "b7a097a0",
   "metadata": {},
   "outputs": [
    {
     "name": "stdout",
     "output_type": "stream",
     "text": [
      "Requirement already satisfied: scikit-learn in /usr/local/lib/python3.11/site-packages (1.3.0)\n",
      "Requirement already satisfied: numpy>=1.17.3 in /usr/local/lib/python3.11/site-packages (from scikit-learn) (1.24.2)\n",
      "Requirement already satisfied: scipy>=1.5.0 in /usr/local/lib/python3.11/site-packages (from scikit-learn) (1.11.1)\n",
      "Requirement already satisfied: joblib>=1.1.1 in /usr/local/lib/python3.11/site-packages (from scikit-learn) (1.3.1)\n",
      "Requirement already satisfied: threadpoolctl>=2.0.0 in /usr/local/lib/python3.11/site-packages (from scikit-learn) (3.2.0)\n"
     ]
    }
   ],
   "source": [
    "!pip install scikit-learn"
   ]
  },
  {
   "cell_type": "code",
   "execution_count": 276,
   "id": "fbe1c862",
   "metadata": {},
   "outputs": [
    {
     "name": "stdout",
     "output_type": "stream",
     "text": [
      "总共的数据大小 (707952,)\n",
      "训练集数据大小 (566361,)\n",
      "测试集数据大小 (141591,)\n"
     ]
    }
   ],
   "source": [
    "from sklearn.model_selection import train_test_split\n",
    "X = np.array(sms.msg_new)\n",
    "y = np.array(sms.label)\n",
    "X_train, X_test, y_train, y_test = train_test_split(X, y, random_state=42, test_size=0.2)\n",
    "print(\"总共的数据大小\", X.shape)\n",
    "print(\"训练集数据大小\", X_train.shape)\n",
    "print(\"测试集数据大小\", X_test.shape)"
   ]
  },
  {
   "cell_type": "code",
   "execution_count": 278,
   "id": "a30e9dd3",
   "metadata": {},
   "outputs": [],
   "source": [
    "from sklearn.feature_extraction.text import CountVectorizer\n",
    "# 设置匹配的正则表达式和停用词\n",
    "vect = CountVectorizer(token_pattern=r\"(?u)\\b\\w+\\b\", stop_words=stopwords)\n",
    "X_train_dtm = vect.fit_transform(X_train)\n",
    "X_test_dtm = vect.transform(X_test)"
   ]
  },
  {
   "cell_type": "code",
   "execution_count": 279,
   "id": "31fe279f",
   "metadata": {},
   "outputs": [
    {
     "name": "stdout",
     "output_type": "stream",
     "text": [
      "CPU times: user 153 ms, sys: 29.5 ms, total: 183 ms\n",
      "Wall time: 181 ms\n"
     ]
    },
    {
     "data": {
      "text/html": [
       "<style>#sk-container-id-5 {color: black;}#sk-container-id-5 pre{padding: 0;}#sk-container-id-5 div.sk-toggleable {background-color: white;}#sk-container-id-5 label.sk-toggleable__label {cursor: pointer;display: block;width: 100%;margin-bottom: 0;padding: 0.3em;box-sizing: border-box;text-align: center;}#sk-container-id-5 label.sk-toggleable__label-arrow:before {content: \"▸\";float: left;margin-right: 0.25em;color: #696969;}#sk-container-id-5 label.sk-toggleable__label-arrow:hover:before {color: black;}#sk-container-id-5 div.sk-estimator:hover label.sk-toggleable__label-arrow:before {color: black;}#sk-container-id-5 div.sk-toggleable__content {max-height: 0;max-width: 0;overflow: hidden;text-align: left;background-color: #f0f8ff;}#sk-container-id-5 div.sk-toggleable__content pre {margin: 0.2em;color: black;border-radius: 0.25em;background-color: #f0f8ff;}#sk-container-id-5 input.sk-toggleable__control:checked~div.sk-toggleable__content {max-height: 200px;max-width: 100%;overflow: auto;}#sk-container-id-5 input.sk-toggleable__control:checked~label.sk-toggleable__label-arrow:before {content: \"▾\";}#sk-container-id-5 div.sk-estimator input.sk-toggleable__control:checked~label.sk-toggleable__label {background-color: #d4ebff;}#sk-container-id-5 div.sk-label input.sk-toggleable__control:checked~label.sk-toggleable__label {background-color: #d4ebff;}#sk-container-id-5 input.sk-hidden--visually {border: 0;clip: rect(1px 1px 1px 1px);clip: rect(1px, 1px, 1px, 1px);height: 1px;margin: -1px;overflow: hidden;padding: 0;position: absolute;width: 1px;}#sk-container-id-5 div.sk-estimator {font-family: monospace;background-color: #f0f8ff;border: 1px dotted black;border-radius: 0.25em;box-sizing: border-box;margin-bottom: 0.5em;}#sk-container-id-5 div.sk-estimator:hover {background-color: #d4ebff;}#sk-container-id-5 div.sk-parallel-item::after {content: \"\";width: 100%;border-bottom: 1px solid gray;flex-grow: 1;}#sk-container-id-5 div.sk-label:hover label.sk-toggleable__label {background-color: #d4ebff;}#sk-container-id-5 div.sk-serial::before {content: \"\";position: absolute;border-left: 1px solid gray;box-sizing: border-box;top: 0;bottom: 0;left: 50%;z-index: 0;}#sk-container-id-5 div.sk-serial {display: flex;flex-direction: column;align-items: center;background-color: white;padding-right: 0.2em;padding-left: 0.2em;position: relative;}#sk-container-id-5 div.sk-item {position: relative;z-index: 1;}#sk-container-id-5 div.sk-parallel {display: flex;align-items: stretch;justify-content: center;background-color: white;position: relative;}#sk-container-id-5 div.sk-item::before, #sk-container-id-5 div.sk-parallel-item::before {content: \"\";position: absolute;border-left: 1px solid gray;box-sizing: border-box;top: 0;bottom: 0;left: 50%;z-index: -1;}#sk-container-id-5 div.sk-parallel-item {display: flex;flex-direction: column;z-index: 1;position: relative;background-color: white;}#sk-container-id-5 div.sk-parallel-item:first-child::after {align-self: flex-end;width: 50%;}#sk-container-id-5 div.sk-parallel-item:last-child::after {align-self: flex-start;width: 50%;}#sk-container-id-5 div.sk-parallel-item:only-child::after {width: 0;}#sk-container-id-5 div.sk-dashed-wrapped {border: 1px dashed gray;margin: 0 0.4em 0.5em 0.4em;box-sizing: border-box;padding-bottom: 0.4em;background-color: white;}#sk-container-id-5 div.sk-label label {font-family: monospace;font-weight: bold;display: inline-block;line-height: 1.2em;}#sk-container-id-5 div.sk-label-container {text-align: center;}#sk-container-id-5 div.sk-container {/* jupyter's `normalize.less` sets `[hidden] { display: none; }` but bootstrap.min.css set `[hidden] { display: none !important; }` so we also need the `!important` here to be able to override the default hidden behavior on the sphinx rendered scikit-learn.org. See: https://github.com/scikit-learn/scikit-learn/issues/21755 */display: inline-block !important;position: relative;}#sk-container-id-5 div.sk-text-repr-fallback {display: none;}</style><div id=\"sk-container-id-5\" class=\"sk-top-container\"><div class=\"sk-text-repr-fallback\"><pre>MultinomialNB()</pre><b>In a Jupyter environment, please rerun this cell to show the HTML representation or trust the notebook. <br />On GitHub, the HTML representation is unable to render, please try loading this page with nbviewer.org.</b></div><div class=\"sk-container\" hidden><div class=\"sk-item\"><div class=\"sk-estimator sk-toggleable\"><input class=\"sk-toggleable__control sk-hidden--visually\" id=\"sk-estimator-id-5\" type=\"checkbox\" checked><label for=\"sk-estimator-id-5\" class=\"sk-toggleable__label sk-toggleable__label-arrow\">MultinomialNB</label><div class=\"sk-toggleable__content\"><pre>MultinomialNB()</pre></div></div></div></div></div>"
      ],
      "text/plain": [
       "MultinomialNB()"
      ]
     },
     "execution_count": 279,
     "metadata": {},
     "output_type": "execute_result"
    }
   ],
   "source": [
    "from sklearn.naive_bayes import MultinomialNB\n",
    "nb = MultinomialNB()\n",
    "%time nb.fit(X_train_dtm, y_train) "
   ]
  },
  {
   "cell_type": "code",
   "execution_count": 280,
   "id": "06c35a9b",
   "metadata": {},
   "outputs": [
    {
     "data": {
      "text/plain": [
       "array([0, 0, 0, ..., 0, 0, 0])"
      ]
     },
     "execution_count": 280,
     "metadata": {},
     "output_type": "execute_result"
    }
   ],
   "source": [
    "y_pred = nb.predict(X_test_dtm)\n",
    "y_pred"
   ]
  },
  {
   "cell_type": "markdown",
   "id": "9ffb500f",
   "metadata": {},
   "source": [
    "#### 实验1"
   ]
  },
  {
   "cell_type": "markdown",
   "id": "b15f31ea",
   "metadata": {},
   "source": [
    "##### 文本向量化方式CountVectorizer"
   ]
  },
  {
   "cell_type": "code",
   "execution_count": 281,
   "id": "2167ea8f",
   "metadata": {},
   "outputs": [
    {
     "name": "stdout",
     "output_type": "stream",
     "text": [
      "在测试集上的混淆矩阵：\n",
      "[[125230   2203]\n",
      " [   275  13883]]\n",
      "在测试集上的分类结果报告：\n",
      "              precision    recall  f1-score   support\n",
      "\n",
      "           0       1.00      0.98      0.99    127433\n",
      "           1       0.86      0.98      0.92     14158\n",
      "\n",
      "    accuracy                           0.98    141591\n",
      "   macro avg       0.93      0.98      0.95    141591\n",
      "weighted avg       0.98      0.98      0.98    141591\n",
      "\n",
      "在测试集上的 f1-score ：\n",
      "0.918066393334215\n"
     ]
    }
   ],
   "source": [
    "from sklearn.pipeline import Pipeline\n",
    "from sklearn.feature_extraction.text import CountVectorizer\n",
    "from sklearn.naive_bayes import MultinomialNB\n",
    "\n",
    "# pipline_list_1用于传给Pipline作为参数\n",
    "pipeline_list_1 = [\n",
    "    # --------------------------- 参考代码 ------------------------------\n",
    "    ('vec', CountVectorizer(token_pattern=r\"(?u)\\b\\w+\\b\", stop_words=stopwords)),\n",
    "    ('classifier', MultinomialNB())\n",
    "    # ------------------------------------------------------------------------\n",
    "]\n",
    "# 搭建 pipeline\n",
    "pipeline = Pipeline(pipeline_list_1)\n",
    "\n",
    "# 训练 pipeline\n",
    "pipeline.fit(X_train, y_train)\n",
    "\n",
    "# 对测试集的数据集进行预测\n",
    "y_pred = pipeline.predict(X_test)\n",
    "\n",
    "# 在测试集上进行评估\n",
    "from sklearn import metrics\n",
    "print(\"在测试集上的混淆矩阵：\")\n",
    "print(metrics.confusion_matrix(y_test, y_pred))\n",
    "print(\"在测试集上的分类结果报告：\")\n",
    "print(metrics.classification_report(y_test, y_pred))\n",
    "print(\"在测试集上的 f1-score ：\")\n",
    "print(metrics.f1_score(y_test, y_pred))"
   ]
  },
  {
   "cell_type": "code",
   "execution_count": 282,
   "id": "0860deeb",
   "metadata": {},
   "outputs": [
    {
     "data": {
      "text/plain": [
       "['work/pipeline1.model']"
      ]
     },
     "execution_count": 282,
     "metadata": {},
     "output_type": "execute_result"
    }
   ],
   "source": [
    "import joblib\n",
    "pipeline_path = 'work/pipeline1.model'\n",
    "joblib.dump(pipeline, pipeline_path)"
   ]
  },
  {
   "cell_type": "code",
   "execution_count": 283,
   "id": "9d236c52",
   "metadata": {},
   "outputs": [],
   "source": [
    "# 加载训练好的模型\n",
    "import joblib\n",
    "# ------- pipeline 保存的路径，若有变化请修改 --------\n",
    "pipeline_path = 'work/pipeline1.model'\n",
    "# --------------------------------------------------\n",
    "pipeline = joblib.load(pipeline_path)\n",
    "\n",
    "def predict(message):\n",
    "    \"\"\"\n",
    "    预测短信短信的类别和每个类别的概率\n",
    "    param: message: 经过jieba分词的短信，如\"医生 拿 着 我 的 报告单 说 ： 幸亏 你 来 的 早 啊\"\n",
    "    return: label: 整数类型，短信的类别，0 代表正常，1 代表恶意\n",
    "            proba: 列表类型，短信属于每个类别的概率，如[0.3, 0.7]，认为短信属于 0 的概率为 0.3，属于 1 的概率为 0.7\n",
    "    \"\"\"\n",
    "    label = pipeline.predict([message])[0]\n",
    "    proba = list(pipeline.predict_proba([message])[0])\n",
    "    \n",
    "    return label, proba"
   ]
  },
  {
   "cell_type": "code",
   "execution_count": 284,
   "id": "3e8207a8",
   "metadata": {},
   "outputs": [
    {
     "name": "stdout",
     "output_type": "stream",
     "text": [
      "总共的数据大小 (78661,)\n"
     ]
    }
   ],
   "source": [
    "# 数据集的路径\n",
    "data_private_path = \"./data/5f9ae242cae5285cd734b91e-momodel/sms_private.csv\"\n",
    "# 读取数据\n",
    "sms_private = pd.read_csv(data_private_path, encoding='utf-8')\n",
    "# 显示前 5 条数据\n",
    "X_private = np.array(sms_private.msg_new)\n",
    "print(\"总共的数据大小\", X_private.shape)"
   ]
  },
  {
   "cell_type": "code",
   "execution_count": 285,
   "id": "11c61484",
   "metadata": {},
   "outputs": [],
   "source": [
    "y_private = pipeline.predict(X_private)"
   ]
  },
  {
   "cell_type": "code",
   "execution_count": 286,
   "id": "ad190dc1",
   "metadata": {},
   "outputs": [],
   "source": [
    "np.save('./work/y_private_pred.npy', y_private)"
   ]
  },
  {
   "cell_type": "code",
   "execution_count": 287,
   "id": "de8b3eb1",
   "metadata": {},
   "outputs": [],
   "source": [
    "data = np.load('./work/y_private_pred.npy')"
   ]
  },
  {
   "cell_type": "markdown",
   "id": "2db8be35",
   "metadata": {},
   "source": [
    "##### 测试数据 结果不正确"
   ]
  },
  {
   "cell_type": "code",
   "execution_count": 288,
   "id": "61fea512",
   "metadata": {},
   "outputs": [
    {
     "data": {
      "text/plain": [
       "(0, [0.6180196559110083, 0.3819803440889922])"
      ]
     },
     "execution_count": 288,
     "metadata": {},
     "output_type": "execute_result"
    }
   ],
   "source": [
    "predict(\"代开发票微 v信：dk9330 张经理。可验证后付款，点数优惠！发票保真 \")"
   ]
  },
  {
   "cell_type": "markdown",
   "id": "6b03c160",
   "metadata": {},
   "source": [
    "#### 测试数据 结果正确"
   ]
  },
  {
   "cell_type": "code",
   "execution_count": 289,
   "id": "b65136cf",
   "metadata": {},
   "outputs": [
    {
     "data": {
      "text/plain": [
       "(1, [0.12117996116886533, 0.8788200388311346])"
      ]
     },
     "execution_count": 289,
     "metadata": {},
     "output_type": "execute_result"
    }
   ],
   "source": [
    "predict(\"你好，我叫韩美冰，22岁，和几个大学同学兼职赚生活费，在你附近，可上门，可以出示学生证\")"
   ]
  },
  {
   "cell_type": "markdown",
   "id": "9910985b",
   "metadata": {},
   "source": [
    "#### 实验2"
   ]
  },
  {
   "cell_type": "markdown",
   "id": "551640b7",
   "metadata": {},
   "source": [
    "##### 文本向量化方式TfidfVectorizer"
   ]
  },
  {
   "cell_type": "code",
   "execution_count": 290,
   "id": "ee0bf5ce",
   "metadata": {},
   "outputs": [],
   "source": [
    "from sklearn.pipeline import Pipeline\n",
    "from sklearn.feature_extraction.text import TfidfVectorizer\n",
    "from sklearn.naive_bayes import MultinomialNB\n",
    "from sklearn.preprocessing import MaxAbsScaler\n",
    "\n",
    "# pipline_list_2用于传给Pipline作为参数\n",
    "pipeline_list_2 = [\n",
    "    # --------------------------- 参考代码 ------------------------------\n",
    "    ('cv',TfidfVectorizer(token_pattern=r\"(?u)\\b\\w+\\b\", stop_words=stopwords) ),\n",
    "    ('max_abs_scaler',preprocessing.MaxAbsScaler()),\n",
    "    ('classifier', MultinomialNB()),\n",
    "    # ------------------------------------------------------------------------\n",
    "]"
   ]
  },
  {
   "cell_type": "code",
   "execution_count": 291,
   "id": "5a11b996",
   "metadata": {},
   "outputs": [
    {
     "name": "stdout",
     "output_type": "stream",
     "text": [
      "在测试集上的混淆矩阵：\n",
      "[[126132   1301]\n",
      " [   755  13403]]\n",
      "在测试集上的分类结果报告：\n",
      "              precision    recall  f1-score   support\n",
      "\n",
      "           0       0.99      0.99      0.99    127433\n",
      "           1       0.91      0.95      0.93     14158\n",
      "\n",
      "    accuracy                           0.99    141591\n",
      "   macro avg       0.95      0.97      0.96    141591\n",
      "weighted avg       0.99      0.99      0.99    141591\n",
      "\n",
      "在测试集上的 f1-score ：\n",
      "0.9287644653870141\n"
     ]
    }
   ],
   "source": [
    "\n",
    "pipeline = Pipeline(pipeline_list_2)\n",
    "\n",
    "pipeline.fit(X_train, y_train)\n",
    "\n",
    "# 对测试集的数据集进行预测\n",
    "y_pred = pipeline.predict(X_test)\n",
    "\n",
    "# 在测试集上进行评估\n",
    "from sklearn import metrics\n",
    "print(\"在测试集上的混淆矩阵：\")\n",
    "print(metrics.confusion_matrix(y_test, y_pred))\n",
    "print(\"在测试集上的分类结果报告：\")\n",
    "print(metrics.classification_report(y_test, y_pred))\n",
    "print(\"在测试集上的 f1-score ：\")\n",
    "print(metrics.f1_score(y_test, y_pred))"
   ]
  },
  {
   "cell_type": "code",
   "execution_count": 292,
   "id": "fd4dab02",
   "metadata": {},
   "outputs": [
    {
     "data": {
      "text/plain": [
       "['work/pipeline2.model']"
      ]
     },
     "execution_count": 292,
     "metadata": {},
     "output_type": "execute_result"
    }
   ],
   "source": [
    "import joblib\n",
    "pipeline_path = 'work/pipeline2.model'\n",
    "joblib.dump(pipeline, pipeline_path)"
   ]
  },
  {
   "cell_type": "code",
   "execution_count": 293,
   "id": "5543c780",
   "metadata": {},
   "outputs": [],
   "source": [
    "# 加载训练好的模型\n",
    "import joblib\n",
    "# ------- pipeline 保存的路径，若有变化请修改 --------\n",
    "pipeline_path = 'work/pipeline2.model'\n",
    "# --------------------------------------------------\n",
    "pipeline = joblib.load(pipeline_path)"
   ]
  },
  {
   "cell_type": "code",
   "execution_count": 294,
   "id": "25de2d94",
   "metadata": {},
   "outputs": [
    {
     "data": {
      "text/plain": [
       "(1, [0.00010744142063522713, 0.9998925585793683])"
      ]
     },
     "execution_count": 294,
     "metadata": {},
     "output_type": "execute_result"
    }
   ],
   "source": [
    "predict(\"代开发票微 v信：dk9330 张经理。可验证后付款，点数优惠！发票保真\")"
   ]
  },
  {
   "cell_type": "code",
   "execution_count": 295,
   "id": "67031267",
   "metadata": {},
   "outputs": [
    {
     "data": {
      "text/plain": [
       "(1, [0.08394428857734752, 0.9160557114226522])"
      ]
     },
     "execution_count": 295,
     "metadata": {},
     "output_type": "execute_result"
    }
   ],
   "source": [
    "predict(\"你好，我叫韩美冰，22岁，和几个大学同学兼职赚生活费，在你附近，可上门，可以出示学生证\")"
   ]
  },
  {
   "cell_type": "markdown",
   "id": "be209cfb",
   "metadata": {},
   "source": [
    "#### 实验3"
   ]
  },
  {
   "cell_type": "markdown",
   "id": "6f8df3b9",
   "metadata": {},
   "source": [
    "##### LR 模型"
   ]
  },
  {
   "cell_type": "code",
   "execution_count": 296,
   "id": "8dadbb02",
   "metadata": {},
   "outputs": [
    {
     "name": "stdout",
     "output_type": "stream",
     "text": [
      "在测试集上的混淆矩阵：\n",
      "[[127176    257]\n",
      " [   684  13474]]\n",
      "在测试集上的分类结果报告：\n",
      "              precision    recall  f1-score   support\n",
      "\n",
      "           0       0.99      1.00      1.00    127433\n",
      "           1       0.98      0.95      0.97     14158\n",
      "\n",
      "    accuracy                           0.99    141591\n",
      "   macro avg       0.99      0.97      0.98    141591\n",
      "weighted avg       0.99      0.99      0.99    141591\n",
      "\n",
      "在测试集上的 f1-score ：\n",
      "0.9662590985693285\n"
     ]
    }
   ],
   "source": [
    "from sklearn import preprocessing\n",
    "from sklearn.linear_model import LogisticRegression\n",
    "# pipline_list_3用于传给Pipline作为参数\n",
    "pipeline_list_3 = [\n",
    "    ('cv',TfidfVectorizer(token_pattern=r\"(?u)\\b\\w+\\b\", stop_words=stopwords) ),\n",
    "    ('max_abs_scaler',preprocessing.MaxAbsScaler()),\n",
    "    ('logistic', LogisticRegression()),\n",
    "]\n",
    "# 搭建 pipeline\n",
    "pipeline = Pipeline(pipeline_list_3)\n",
    "\n",
    "# 训练 pipeline\n",
    "pipeline.fit(X_train, y_train)\n",
    "\n",
    "# 对测试集的数据集进行预测\n",
    "y_pred = pipeline.predict(X_test)\n",
    "\n",
    "# 在测试集上进行评估\n",
    "from sklearn import metrics\n",
    "print(\"在测试集上的混淆矩阵：\")\n",
    "print(metrics.confusion_matrix(y_test, y_pred))\n",
    "print(\"在测试集上的分类结果报告：\")\n",
    "print(metrics.classification_report(y_test, y_pred))\n",
    "print(\"在测试集上的 f1-score ：\")\n",
    "print(metrics.f1_score(y_test, y_pred))"
   ]
  },
  {
   "cell_type": "code",
   "execution_count": 297,
   "id": "0ea29ca9",
   "metadata": {},
   "outputs": [
    {
     "data": {
      "text/plain": [
       "['work/pipeline3.model']"
      ]
     },
     "execution_count": 297,
     "metadata": {},
     "output_type": "execute_result"
    }
   ],
   "source": [
    "import joblib\n",
    "pipeline_path = 'work/pipeline3.model'\n",
    "joblib.dump(pipeline, pipeline_path)"
   ]
  },
  {
   "cell_type": "code",
   "execution_count": 298,
   "id": "75f5026b",
   "metadata": {},
   "outputs": [],
   "source": [
    "# 加载训练好的模型\n",
    "import joblib\n",
    "# ------- pipeline 保存的路径，若有变化请修改 --------\n",
    "pipeline_path = 'work/pipeline3.model'\n",
    "# --------------------------------------------------\n",
    "pipeline = joblib.load(pipeline_path)"
   ]
  },
  {
   "cell_type": "code",
   "execution_count": 299,
   "id": "ec23df1e",
   "metadata": {},
   "outputs": [
    {
     "data": {
      "text/plain": [
       "(1, [0.00032297760172217416, 0.9996770223982778])"
      ]
     },
     "execution_count": 299,
     "metadata": {},
     "output_type": "execute_result"
    }
   ],
   "source": [
    "predict(\"你好，我叫韩美冰，22岁，和几个大学同学兼职赚生活费，在你附近，可上门，可以出示学生证\")"
   ]
  },
  {
   "cell_type": "code",
   "execution_count": 310,
   "id": "23a02e38",
   "metadata": {},
   "outputs": [
    {
     "data": {
      "text/plain": [
       "(0, [0.9999999973169551, 2.6830446646610556e-09])"
      ]
     },
     "execution_count": 310,
     "metadata": {},
     "output_type": "execute_result"
    }
   ],
   "source": [
    "predict(\"代开发票微 v信：dk9330 张经理。可验证后付款，点数优惠！发票保真\")"
   ]
  },
  {
   "cell_type": "markdown",
   "id": "8dc2e8de",
   "metadata": {},
   "source": [
    "#### 实验4"
   ]
  },
  {
   "cell_type": "markdown",
   "id": "561a7a69",
   "metadata": {},
   "source": [
    "##### BernoulliNB"
   ]
  },
  {
   "cell_type": "code",
   "execution_count": 302,
   "id": "b88bb477",
   "metadata": {},
   "outputs": [
    {
     "name": "stdout",
     "output_type": "stream",
     "text": [
      "在测试集上的混淆矩阵：\n",
      "[[127202    231]\n",
      " [   933  13225]]\n",
      "在测试集上的分类结果报告：\n",
      "              precision    recall  f1-score   support\n",
      "\n",
      "           0       0.99      1.00      1.00    127433\n",
      "           1       0.98      0.93      0.96     14158\n",
      "\n",
      "    accuracy                           0.99    141591\n",
      "   macro avg       0.99      0.97      0.98    141591\n",
      "weighted avg       0.99      0.99      0.99    141591\n",
      "\n",
      "在测试集上的 f1-score ：\n",
      "0.9578474686753096\n"
     ]
    }
   ],
   "source": [
    "from sklearn.naive_bayes import BernoulliNB\n",
    "from sklearn import preprocessing\n",
    "# pipline_list_2用于传给Pipline作为参数\n",
    "pipeline_list_4 = [\n",
    "    ('cv',TfidfVectorizer(token_pattern=r\"(?u)\\b\\w+\\b\", stop_words=stopwords) ),\n",
    "    ('max_abs_scaler',preprocessing.MaxAbsScaler()),\n",
    "    ('classifier', BernoulliNB()),\n",
    "]\n",
    "# 搭建 pipeline\n",
    "pipeline = Pipeline(pipeline_list_4)\n",
    "\n",
    "# 训练 pipeline\n",
    "pipeline.fit(X_train, y_train)\n",
    "\n",
    "# 对测试集的数据集进行预测\n",
    "y_pred = pipeline.predict(X_test)\n",
    "\n",
    "# 在测试集上进行评估\n",
    "from sklearn import metrics\n",
    "print(\"在测试集上的混淆矩阵：\")\n",
    "print(metrics.confusion_matrix(y_test, y_pred))\n",
    "print(\"在测试集上的分类结果报告：\")\n",
    "print(metrics.classification_report(y_test, y_pred))\n",
    "print(\"在测试集上的 f1-score ：\")\n",
    "print(metrics.f1_score(y_test, y_pred))"
   ]
  },
  {
   "cell_type": "code",
   "execution_count": 303,
   "id": "c4746fee",
   "metadata": {},
   "outputs": [
    {
     "data": {
      "text/plain": [
       "['work/pipeline4.model']"
      ]
     },
     "execution_count": 303,
     "metadata": {},
     "output_type": "execute_result"
    }
   ],
   "source": [
    "import joblib\n",
    "pipeline_path = 'work/pipeline4.model'\n",
    "joblib.dump(pipeline, pipeline_path)\n",
    "['work/pipeline4.model']"
   ]
  },
  {
   "cell_type": "code",
   "execution_count": 307,
   "id": "26ad6ff0",
   "metadata": {},
   "outputs": [],
   "source": [
    "# 加载训练好的模型\n",
    "import joblib\n",
    "# ------- pipeline 保存的路径，若有变化请修改 --------\n",
    "pipeline_path = 'work/pipeline4.model'\n",
    "# --------------------------------------------------\n",
    "pipeline = joblib.load(pipeline_path)"
   ]
  },
  {
   "cell_type": "code",
   "execution_count": 308,
   "id": "ce4ad2e7",
   "metadata": {},
   "outputs": [
    {
     "data": {
      "text/plain": [
       "(0, [0.9999999656485882, 3.435141196185909e-08])"
      ]
     },
     "execution_count": 308,
     "metadata": {},
     "output_type": "execute_result"
    }
   ],
   "source": [
    "predict(\"你好，我叫韩美冰，22岁，和几个大学同学兼职赚生活费，在你附近，可上门，可以出示学生证\")"
   ]
  },
  {
   "cell_type": "code",
   "execution_count": 309,
   "id": "8cbd9be4",
   "metadata": {},
   "outputs": [
    {
     "data": {
      "text/plain": [
       "(0, [0.9999999973169551, 2.6830446646610556e-09])"
      ]
     },
     "execution_count": 309,
     "metadata": {},
     "output_type": "execute_result"
    }
   ],
   "source": [
    "predict(\"代开发票微 v信：dk9330 张经理。可验证后付款，点数优惠！发票保真\")"
   ]
  },
  {
   "cell_type": "markdown",
   "id": "4624f4cb",
   "metadata": {},
   "source": [
    "#### 添加数据"
   ]
  },
  {
   "cell_type": "code",
   "execution_count": 139,
   "id": "21a09c57",
   "metadata": {},
   "outputs": [
    {
     "name": "stdout",
     "output_type": "stream",
     "text": [
      "Call All Mode: 货到付款 付款 打消 您 的 顾虑 ， 顺 丰 包 邮     体现 我 的 诚意 ！          加 我 微 信 537392777 货 不好     生意 一次 只有 一次 ， 好 货     您 才 会 常来\n",
      "Call All Mode: 你好 ， 我 叫 韩美 冰 ， 22 岁 ， 和 几个 大学 同学 兼职 赚 生活 生活费 ， 在 你 附近 ， 可上 上门 ， 可以 出示 学生 学生证\n",
      "Call All Mode: 代 开发 开发票 发票 微     v 信 ： dk9330     张 经理 。 可验证 验证 后 付款 ， 点数 优惠 ！ 发票 保真    ！ 增值 增值税 普通 普通发票 发票 。《 工程 . 建材 . 广告 . 会议 . 咨询 . 住宿 . 等 各类 发票 。 电话 ： 13661873308 张 经理     祝 ： 生意 生意兴隆 意兴 兴隆 ， 万事 顺意 ！ 此 广告 长期 长期有效 有效 敬请 保留 ！ 如有 打扰 敬请 请见 见谅 ！ 短信 内 不 回复 请 加 v\n"
     ]
    }
   ],
   "source": [
    "import jieba\n",
    "\n",
    "strs=[\"货到付款打消您的顾虑，顺丰包邮 体现我的诚意！   加我微信537392777货不好 生意一次只有一次，好货 您才会常来\",\n",
    "      \"你好，我叫韩美冰，22岁，和几个大学同学兼职赚生活费，在你附近，可上门，可以出示学生证\",\n",
    "      \"代开发票微 v信：dk9330 张经理。可验证后付款，点数优惠！发票保真 ！增值税普通发票。《工程.建材.广告.会议.咨询.住宿.等各类发票。电话：13661873308张经理 祝：生意兴隆，万事顺意！此广告长期有效敬请保留！如有打扰敬请见谅！短信内不回复请加v\"]\n",
    "for str in strs:\n",
    "    seg_list = jieba.cut(str,cut_all=True) # 使用paddle模式\n",
    "    print(\"Call All Mode: \" + ' '.join(list(seg_list)))\n",
    "\n"
   ]
  },
  {
   "cell_type": "code",
   "execution_count": null,
   "id": "758af626",
   "metadata": {},
   "outputs": [],
   "source": []
  }
 ],
 "metadata": {
  "kernelspec": {
   "display_name": "Python 3 (ipykernel)",
   "language": "python",
   "name": "python3"
  },
  "language_info": {
   "codemirror_mode": {
    "name": "ipython",
    "version": 3
   },
   "file_extension": ".py",
   "mimetype": "text/x-python",
   "name": "python",
   "nbconvert_exporter": "python",
   "pygments_lexer": "ipython3",
   "version": "3.11.4"
  }
 },
 "nbformat": 4,
 "nbformat_minor": 5
}
